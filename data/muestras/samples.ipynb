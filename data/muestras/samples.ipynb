{
 "cells": [
  {
   "cell_type": "code",
   "execution_count": 1,
   "metadata": {},
   "outputs": [],
   "source": [
    "import numpy as np\n",
    "from numpy import linalg"
   ]
  },
  {
   "cell_type": "code",
   "execution_count": 2,
   "metadata": {},
   "outputs": [],
   "source": [
    "def gaussian_entropy(cov_matrix):\n",
    "    cov_matrix = np.atleast_2d(cov_matrix)\n",
    "    n = len(cov_matrix)\n",
    "    det_cov = linalg.det(cov_matrix)\n",
    "    return 1/2 * np.log2((2*np.pi*np.exp(1))**n * det_cov)\n",
    "\n",
    "def teoric_TC(cov_matrix):\n",
    "    n = len(cov_matrix)\n",
    "    # H(X1,...,Xn)\n",
    "    H_x = gaussian_entropy(cov_matrix)\n",
    "    # H(Xi)\n",
    "    H_xi = [gaussian_entropy(cov_matrix[i, i]) for i in range(n)]\n",
    "    # sum(H(Xi))\n",
    "    sum_H_xi = np.sum(H_xi)\n",
    "    # TC\n",
    "    TC = sum_H_xi - H_x\n",
    "    return TC\n",
    "\n",
    "def teoric_DTC(cov_matrix):\n",
    "    n = len(cov_matrix)\n",
    "    # H(X1,...,Xi-1,Xi+1,...,Xn)\n",
    "    H_xis_ = [gaussian_entropy(np.delete(np.delete(cov_matrix, j, axis=1), j, axis=0)) for j in range(n)] \n",
    "    # sum(H(X1,...,Xi-1,Xi+1,...,Xn))\n",
    "    sum_H_xi_ = np.sum(H_xis_) \n",
    "    # H(X1,...,Xn)\n",
    "    H_x = gaussian_entropy(cov_matrix)\n",
    "    # (1-n) * H(X1,...,Xn)\n",
    "    prod_H_x = (1-n) * H_x\n",
    "    # DTC\n",
    "    DTC = prod_H_x + sum_H_xi_\n",
    "    return DTC\n",
    "\n",
    "def teoric_oinfo(cov_matrix):\n",
    "    oinfo = teoric_TC(cov_matrix) - teoric_DTC(cov_matrix)\n",
    "    return oinfo"
   ]
  },
  {
   "cell_type": "code",
   "execution_count": 3,
   "metadata": {},
   "outputs": [],
   "source": [
    "def makeSamples(parametersList):\n",
    "    i=1\n",
    "    for parameters in parametersList:\n",
    "        cov = parameters['cov']\n",
    "        dim = len(cov)\n",
    "        TC_teoric = teoric_TC(cov)\n",
    "        DTC_teoric = teoric_DTC(cov)\n",
    "        O_teoric = teoric_oinfo(cov)\n",
    "        header = f\" {parameters['n_samples']} samples \\n Cov = \\n{cov}\\n TC_teoric = {TC_teoric}\\n DTC_teoric = {DTC_teoric}\\n O_teoric = {O_teoric}\"\n",
    "        normal = np.random.multivariate_normal(np.zeros(dim), parameters['cov'], parameters['n_samples'])\n",
    "        np.savetxt('./samples'+str(i)+'.txt',normal, header=header, comments='%')\n",
    "        i+=1"
   ]
  },
  {
   "cell_type": "code",
   "execution_count": 4,
   "metadata": {},
   "outputs": [
    {
     "name": "stderr",
     "output_type": "stream",
     "text": [
      "/home/diego/anaconda3/lib/python3.7/site-packages/ipykernel_launcher.py:5: RuntimeWarning: divide by zero encountered in log2\n",
      "  \"\"\"\n",
      "/home/diego/anaconda3/lib/python3.7/site-packages/ipykernel_launcher.py:30: RuntimeWarning: invalid value encountered in double_scalars\n"
     ]
    }
   ],
   "source": [
    "n_samples = 10000\n",
    "parametersList = [\n",
    "{\n",
    "    \"n_samples\": n_samples,\n",
    "    \"cov\": np.diag(np.ones(2)) + np.ones((2, 2))\n",
    "},\n",
    "{\n",
    "    \"n_samples\": n_samples,\n",
    "    \"cov\": np.diag(np.ones(3)) + np.ones((3, 3))\n",
    "},\n",
    "{\n",
    "    \"n_samples\": n_samples,\n",
    "    \"cov\": np.diag(np.ones(3)) + np.ones((3, 3))\n",
    "},\n",
    "{\n",
    "    \"n_samples\": n_samples,\n",
    "    \"cov\": np.eye(3) \n",
    "},\n",
    "{\n",
    "    \"n_samples\": n_samples,\n",
    "    \"cov\": np.ones((3, 3))\n",
    "},\n",
    "{\n",
    "    \"n_samples\": n_samples,\n",
    "    \"cov\": np.array([[10,4,5],[4,2,6],[5,6,50]])\n",
    "},\n",
    "{\n",
    "    \"n_samples\": n_samples,\n",
    "    \"cov\": np.diag(np.ones(4)) + np.ones((4, 4))\n",
    "}\n",
    "]\n",
    "makeSamples(parametersList)"
   ]
  },
  {
   "cell_type": "code",
   "execution_count": null,
   "metadata": {},
   "outputs": [],
   "source": []
  }
 ],
 "metadata": {
  "kernelspec": {
   "display_name": "Python 3",
   "language": "python",
   "name": "python3"
  },
  "language_info": {
   "codemirror_mode": {
    "name": "ipython",
    "version": 3
   },
   "file_extension": ".py",
   "mimetype": "text/x-python",
   "name": "python",
   "nbconvert_exporter": "python",
   "pygments_lexer": "ipython3",
   "version": "3.7.6"
  }
 },
 "nbformat": 4,
 "nbformat_minor": 4
}

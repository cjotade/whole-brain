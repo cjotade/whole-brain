{
 "cells": [
  {
   "cell_type": "code",
   "execution_count": 1,
   "metadata": {},
   "outputs": [],
   "source": [
    "import numpy as np\n",
    "from numpy import linalg\n",
    "import os"
   ]
  },
  {
   "cell_type": "code",
   "execution_count": 2,
   "metadata": {},
   "outputs": [],
   "source": [
    "def gaussian_entropy(cov_matrix):\n",
    "    cov_matrix = np.atleast_2d(cov_matrix)\n",
    "    n = len(cov_matrix)\n",
    "    det_cov = linalg.det(cov_matrix)\n",
    "    return 1/2 * np.log2((2*np.pi*np.exp(1))**n * det_cov)\n",
    "\n",
    "def teoric_TC(cov_matrix):\n",
    "    n = len(cov_matrix)\n",
    "    # H(X1,...,Xn)\n",
    "    H_x = gaussian_entropy(cov_matrix)\n",
    "    # H(Xi)\n",
    "    H_xi = [gaussian_entropy(cov_matrix[i, i]) for i in range(n)]\n",
    "    # sum(H(Xi))\n",
    "    sum_H_xi = np.sum(H_xi)\n",
    "    # TC\n",
    "    TC = sum_H_xi - H_x\n",
    "    return TC\n",
    "\n",
    "def teoric_DTC(cov_matrix):\n",
    "    n = len(cov_matrix)\n",
    "    # H(X1,...,Xi-1,Xi+1,...,Xn)\n",
    "    H_xis_ = [gaussian_entropy(np.delete(np.delete(cov_matrix, j, axis=1), j, axis=0)) for j in range(n)] \n",
    "    # sum(H(X1,...,Xi-1,Xi+1,...,Xn))\n",
    "    sum_H_xi_ = np.sum(H_xis_) \n",
    "    # H(X1,...,Xn)\n",
    "    H_x = gaussian_entropy(cov_matrix)\n",
    "    # (1-n) * H(X1,...,Xn)\n",
    "    prod_H_x = (1-n) * H_x\n",
    "    # DTC\n",
    "    DTC = prod_H_x + sum_H_xi_\n",
    "    return DTC\n",
    "\n",
    "def teoric_oinfo(cov_matrix):\n",
    "    oinfo = teoric_TC(cov_matrix) - teoric_DTC(cov_matrix)\n",
    "    return oinfo"
   ]
  },
  {
   "cell_type": "code",
   "execution_count": 3,
   "metadata": {},
   "outputs": [],
   "source": [
    "def makeSamples(parametersList, repetition_number):    \n",
    "    i=1\n",
    "    for parameters in parametersList:\n",
    "        os.mkdir(f'./muestras/gaussian_{i}')\n",
    "        cov = parameters['cov']\n",
    "        dim = len(cov)\n",
    "        TC_teoric = teoric_TC(cov)\n",
    "        DTC_teoric = teoric_DTC(cov)\n",
    "        O_teoric = TC_teoric-DTC_teoric\n",
    "        header = f\" {parameters['n_samples']} samples \\n Cov = \\n{cov}\\n TC_teoric = {TC_teoric}\\n DTC_teoric = {DTC_teoric}\\n O_teoric = {O_teoric}\"\n",
    "        for j in range(1,repetition_number+1):\n",
    "            np.random.seed(j)\n",
    "            normal = np.random.multivariate_normal(np.zeros(dim), parameters['cov'], parameters['n_samples'])\n",
    "            np.savetxt(f'./muestras/gaussian_{i}/samples{j}.txt',normal, header=header, comments='%')\n",
    "        i+=1"
   ]
  },
  {
   "cell_type": "code",
   "execution_count": 4,
   "metadata": {},
   "outputs": [],
   "source": [
    "def makeIndex(parametersList):\n",
    "    i=1\n",
    "    textList=[]\n",
    "    for parameters in parametersList:\n",
    "        cov = parameters['cov']\n",
    "        TC_teoric = teoric_TC(cov)\n",
    "        DTC_teoric = teoric_DTC(cov)\n",
    "        O_teoric = TC_teoric-DTC_teoric\n",
    "        textList.append(f\"%%%%% gaussian_{i} %%%%%\\n Cov = \\n{np.array_str(cov, max_line_width=2000)}\\n\\n TC_teoric = {TC_teoric}\\n DTC_teoric = {DTC_teoric}\\n O_teoric = {O_teoric}\")\n",
    "        i+=1\n",
    "    text_file = open(\"./muestras/index.txt\", \"w\")\n",
    "    text_file.write(\"\\n\\n\".join(textList))\n",
    "    text_file.close()"
   ]
  },
  {
   "cell_type": "code",
   "execution_count": 5,
   "metadata": {},
   "outputs": [],
   "source": [
    "def crearMatriz(N, seed = 1):\n",
    "    np.random.seed(seed)\n",
    "    covmat = np.random.rand(N,N)\n",
    "    covmat = covmat @ covmat.transpose()\n",
    "    return covmat"
   ]
  },
  {
   "cell_type": "code",
   "execution_count": 6,
   "metadata": {},
   "outputs": [
    {
     "data": {
      "text/plain": [
       "'for i in range(1000):\\n    cov=crearMatriz(10,seed=i)\\n    o = teoric_oinfo(cov)\\n    if abs(o)<0.01:\\n        print(o,i)'"
      ]
     },
     "execution_count": 6,
     "metadata": {},
     "output_type": "execute_result"
    }
   ],
   "source": [
    "\"\"\"for i in range(1000):\n",
    "    cov=crearMatriz(10,seed=i)\n",
    "    o = teoric_oinfo(cov)\n",
    "    if abs(o)<0.01:\n",
    "        print(o,i)\"\"\""
   ]
  },
  {
   "cell_type": "code",
   "execution_count": 7,
   "metadata": {},
   "outputs": [],
   "source": [
    "n_samples = 100000\n",
    "parametersList = [\n",
    "{\n",
    "    \"n_samples\": n_samples,\n",
    "    \"cov\": crearMatriz(3, seed = 98)#Negativo\n",
    "},\n",
    "{\n",
    "    \"n_samples\": n_samples,\n",
    "    \"cov\": crearMatriz(3, seed = 746)#Positivo\n",
    "},\n",
    "{\n",
    "    \"n_samples\": n_samples,\n",
    "    \"cov\": crearMatriz(3, seed = 331)#Cercano a cero\n",
    "},\n",
    "{\n",
    "    \"n_samples\": n_samples,\n",
    "    \"cov\": crearMatriz(4, seed = 222)#Negativo\n",
    "},\n",
    "{\n",
    "    \"n_samples\": n_samples,\n",
    "    \"cov\": crearMatriz(4, seed = 569)#Positivo\n",
    "},\n",
    "{\n",
    "    \"n_samples\": n_samples,\n",
    "    \"cov\": crearMatriz(4, seed = 359)#Cercano a cero\n",
    "},\n",
    "{\n",
    "    \"n_samples\": n_samples,\n",
    "    \"cov\": crearMatriz(10, seed = 33)#Negativo\n",
    "},\n",
    "{\n",
    "    \"n_samples\": n_samples,\n",
    "    \"cov\": crearMatriz(10, seed = 24)#Positivo\n",
    "},\n",
    "{\n",
    "    \"n_samples\": n_samples,\n",
    "    \"cov\": crearMatriz(10, seed = 775)#Cercano a cero\n",
    "}\n",
    "]"
   ]
  },
  {
   "cell_type": "code",
   "execution_count": 8,
   "metadata": {},
   "outputs": [],
   "source": [
    "os.mkdir('./muestras')\n",
    "makeIndex(parametersList)\n",
    "makeSamples(parametersList,100)"
   ]
  },
  {
   "cell_type": "code",
   "execution_count": null,
   "metadata": {},
   "outputs": [],
   "source": []
  },
  {
   "cell_type": "code",
   "execution_count": null,
   "metadata": {},
   "outputs": [],
   "source": []
  }
 ],
 "metadata": {
  "kernelspec": {
   "display_name": "Python 3",
   "language": "python",
   "name": "python3"
  },
  "language_info": {
   "codemirror_mode": {
    "name": "ipython",
    "version": 3
   },
   "file_extension": ".py",
   "mimetype": "text/x-python",
   "name": "python",
   "nbconvert_exporter": "python",
   "pygments_lexer": "ipython3",
   "version": "3.7.5"
  }
 },
 "nbformat": 4,
 "nbformat_minor": 4
}

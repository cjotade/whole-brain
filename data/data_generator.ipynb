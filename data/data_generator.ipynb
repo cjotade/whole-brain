{
 "cells": [
  {
   "cell_type": "code",
   "execution_count": 1,
   "metadata": {},
   "outputs": [],
   "source": [
    "import numpy as np\n",
    "from numpy import linalg\n",
    "import os\n",
    "import json"
   ]
  },
  {
   "cell_type": "code",
   "execution_count": 2,
   "metadata": {},
   "outputs": [],
   "source": [
    "def gaussian_entropy(cov_matrix):\n",
    "    cov_matrix = np.atleast_2d(cov_matrix)\n",
    "    n = len(cov_matrix)\n",
    "    det_cov = linalg.det(cov_matrix)\n",
    "    return 1/2 * np.log2((2*np.pi*np.exp(1))**n * det_cov)\n",
    "\n",
    "def teoric_TC(cov_matrix):\n",
    "    n = len(cov_matrix)\n",
    "    # H(X1,...,Xn)\n",
    "    H_x = gaussian_entropy(cov_matrix)\n",
    "    # H(Xi)\n",
    "    H_xi = [gaussian_entropy(cov_matrix[i, i]) for i in range(n)]\n",
    "    # sum(H(Xi))\n",
    "    sum_H_xi = np.sum(H_xi)\n",
    "    # TC\n",
    "    TC = sum_H_xi - H_x\n",
    "    return TC\n",
    "\n",
    "def teoric_DTC(cov_matrix):\n",
    "    n = len(cov_matrix)\n",
    "    # H(X1,...,Xi-1,Xi+1,...,Xn)\n",
    "    H_xis_ = [gaussian_entropy(np.delete(np.delete(cov_matrix, j, axis=1), j, axis=0)) for j in range(n)] \n",
    "    # sum(H(X1,...,Xi-1,Xi+1,...,Xn))\n",
    "    sum_H_xi_ = np.sum(H_xis_) \n",
    "    # H(X1,...,Xn)\n",
    "    H_x = gaussian_entropy(cov_matrix)\n",
    "    # (1-n) * H(X1,...,Xn)\n",
    "    prod_H_x = (1-n) * H_x\n",
    "    # DTC\n",
    "    DTC = prod_H_x + sum_H_xi_\n",
    "    return DTC\n",
    "\n",
    "def teoric_oinfo(cov_matrix):\n",
    "    oinfo = teoric_TC(cov_matrix) - teoric_DTC(cov_matrix)\n",
    "    return oinfo\n",
    "\n",
    "def info_mutua(cov, columns1, columns2):\n",
    "    marginal1 = cov[columns1][:,columns1]\n",
    "    marginal2 = cov[columns2][:,columns2]\n",
    "    columns_joint = [*columns1, *columns2]\n",
    "    columns_joint.sort()\n",
    "    joint = cov[columns_joint][:,columns_joint]\n",
    "    I = gaussian_entropy(marginal1) + gaussian_entropy(marginal2) - gaussian_entropy(joint)\n",
    "    return I"
   ]
  },
  {
   "cell_type": "code",
   "execution_count": 3,
   "metadata": {},
   "outputs": [],
   "source": [
    "def teoric_TC2(cov_matrix):\n",
    "    N = len(cov_matrix)\n",
    "    terms = []\n",
    "    for i in range(1,N):\n",
    "        terms.append(info_mutua(cov_matrix, [i], np.arange(i)))\n",
    "    return np.sum(terms), terms\n",
    "\n",
    "def teoric_DTC2(cov_matrix):\n",
    "    N = len(cov_matrix)\n",
    "    terms = [info_mutua(cov_matrix, [N-1], np.arange(N-1))]\n",
    "    for j in range(1,N-1):\n",
    "        info1 = info_mutua(cov_matrix, [j], [*np.arange(j), *np.arange(j+1, N)])\n",
    "        info2 = info_mutua(cov_matrix, [j], np.arange(j+1, N))\n",
    "        info_cond = info1 - info2\n",
    "        terms.append(info_cond)\n",
    "    return np.sum(terms), terms\n",
    "\n",
    "def teoric_oinfo2(cov_matrix):\n",
    "    oinfo = teoric_TC(cov_matrix) - teoric_DTC(cov_matrix)\n",
    "    return oinfo"
   ]
  },
  {
   "cell_type": "code",
   "execution_count": 4,
   "metadata": {},
   "outputs": [
    {
     "data": {
      "text/plain": [
       "array([0, 1, 2, 3, 4, 5, 6, 7, 8, 9])"
      ]
     },
     "execution_count": 4,
     "metadata": {},
     "output_type": "execute_result"
    }
   ],
   "source": [
    "a = np.arange(10)\n",
    "a"
   ]
  },
  {
   "cell_type": "code",
   "execution_count": 5,
   "metadata": {},
   "outputs": [
    {
     "data": {
      "text/plain": [
       "array([0, 1, 2, 3, 4, 5, 6, 7, 8, 9])"
      ]
     },
     "execution_count": 5,
     "metadata": {},
     "output_type": "execute_result"
    }
   ],
   "source": [
    "a[:10]"
   ]
  },
  {
   "cell_type": "code",
   "execution_count": 6,
   "metadata": {},
   "outputs": [
    {
     "data": {
      "text/plain": [
       "[0, 1, 3, 4, 5, 6, 7, 8, 9]"
      ]
     },
     "execution_count": 6,
     "metadata": {},
     "output_type": "execute_result"
    }
   ],
   "source": [
    "j = 2\n",
    "N = 10\n",
    "[*np.arange(j), *np.arange(j+1, N)]"
   ]
  },
  {
   "cell_type": "code",
   "execution_count": 7,
   "metadata": {},
   "outputs": [],
   "source": [
    "def makeSamples(parametersList, repetition_number, save_npy=False):    \n",
    "    i=1\n",
    "    for parameters in parametersList:\n",
    "        os.mkdir('./muestras/gaussian_'+str(i))\n",
    "        cov = parameters['cov']\n",
    "        dim = len(cov)\n",
    "        TC_teoric = teoric_TC(cov)\n",
    "        DTC_teoric = teoric_DTC(cov)\n",
    "        O_teoric = TC_teoric-DTC_teoric\n",
    "        header = f\" {parameters['n_samples']} samples \\n Cov = \\n{cov}\\n TC_teoric = {TC_teoric}\\n DTC_teoric = {DTC_teoric}\\n O_teoric = {O_teoric}\"\n",
    "        for j in range(1,repetition_number+1):\n",
    "            np.random.seed(j)\n",
    "            normal = np.random.multivariate_normal(np.zeros(dim), parameters['cov'], parameters['n_samples'])\n",
    "            if (save_npy):\n",
    "                np.save(f'./muestras/gaussian_{i}/samples{j}.npy',normal)\n",
    "            else:\n",
    "                np.savetxt(f'./muestras/gaussian_{i}/samples{j}.txt',normal, header=header, comments='%')\n",
    "        i+=1"
   ]
  },
  {
   "cell_type": "code",
   "execution_count": 8,
   "metadata": {},
   "outputs": [],
   "source": [
    "def makeJson(parametersList):\n",
    "    gaussians={}\n",
    "    for i, parameters in enumerate(parametersList):\n",
    "        cov = parameters['cov']\n",
    "        n_samples = parameters['n_samples']\n",
    "        TC_teoric_value, TC_teoric_list = teoric_TC2(cov)\n",
    "        DTC_teoric_value, DTC_teoric_list = teoric_DTC2(cov)\n",
    "        O_teoric_value = TC_teoric_value-DTC_teoric_value\n",
    "        gaussians[f\"gaussian_{i+1}\"] = {\n",
    "            \"cov\": cov.tolist(),\n",
    "            \"TC\": TC_teoric_value,\n",
    "            \"DTC\": DTC_teoric_value,\n",
    "            \"O\": O_teoric_value,\n",
    "            \"TC_list\": TC_teoric_list,\n",
    "            \"DTC_list\": DTC_teoric_list\n",
    "        }\n",
    "    with open(\"./muestras/index.json\", \"w\") as f:\n",
    "        json.dump(gaussians, f)"
   ]
  },
  {
   "cell_type": "code",
   "execution_count": 9,
   "metadata": {},
   "outputs": [],
   "source": [
    "def crearMatriz(N, seed = 1):\n",
    "    np.random.seed(seed)\n",
    "    covmat = np.random.rand(N,N)\n",
    "    covmat = covmat @ covmat.transpose()\n",
    "    return covmat"
   ]
  },
  {
   "cell_type": "code",
   "execution_count": 10,
   "metadata": {},
   "outputs": [
    {
     "data": {
      "text/plain": [
       "'for i in range(1000):\\n    cov=crearMatriz(10,seed=i)\\n    o = teoric_oinfo(cov)\\n    if abs(o)<0.01:\\n        print(o,i)'"
      ]
     },
     "execution_count": 10,
     "metadata": {},
     "output_type": "execute_result"
    }
   ],
   "source": [
    "\"\"\"for i in range(1000):\n",
    "    cov=crearMatriz(10,seed=i)\n",
    "    o = teoric_oinfo(cov)\n",
    "    if abs(o)<0.01:\n",
    "        print(o,i)\"\"\""
   ]
  },
  {
   "cell_type": "code",
   "execution_count": 11,
   "metadata": {},
   "outputs": [],
   "source": [
    "n_samples = 1000000\n",
    "parametersList = [\n",
    "{\n",
    "    \"n_samples\": n_samples,\n",
    "    \"cov\": crearMatriz(3, seed = 98)#Negativo\n",
    "},\n",
    "{\n",
    "    \"n_samples\": n_samples,\n",
    "    \"cov\": crearMatriz(3, seed = 746)#Positivo\n",
    "},\n",
    "{\n",
    "    \"n_samples\": n_samples,\n",
    "    \"cov\": crearMatriz(3, seed = 331)#Cercano a cero\n",
    "},\n",
    "{\n",
    "    \"n_samples\": n_samples,\n",
    "    \"cov\": crearMatriz(4, seed = 222)#Negativo\n",
    "},\n",
    "{\n",
    "    \"n_samples\": n_samples,\n",
    "    \"cov\": crearMatriz(4, seed = 569)#Positivo\n",
    "},\n",
    "{\n",
    "    \"n_samples\": n_samples,\n",
    "    \"cov\": crearMatriz(4, seed = 359)#Cercano a cero\n",
    "},\n",
    "{\n",
    "    \"n_samples\": n_samples,\n",
    "    \"cov\": crearMatriz(10, seed = 33)#Negativo\n",
    "},\n",
    "{\n",
    "    \"n_samples\": n_samples,\n",
    "    \"cov\": crearMatriz(10, seed = 24)#Positivo\n",
    "},\n",
    "{\n",
    "    \"n_samples\": n_samples,\n",
    "    \"cov\": crearMatriz(10, seed = 775)#Cercano a cero\n",
    "}\n",
    "]"
   ]
  },
  {
   "cell_type": "code",
   "execution_count": 12,
   "metadata": {},
   "outputs": [
    {
     "name": "stdout",
     "output_type": "stream",
     "text": [
      "3.5047283257553657e-10\n",
      "0.0009908436809163697\n",
      "0.1884437653096859\n",
      "9.359386841832904e-07\n",
      "5.2467902032759716e-05\n",
      "0.000886192822186952\n",
      "5.0394389847273145e-06\n",
      "0.016170695726148265\n",
      "0.00041687596142928876\n"
     ]
    }
   ],
   "source": [
    "for parameters in parametersList:\n",
    "    print(np.linalg.det(parameters['cov']))"
   ]
  },
  {
   "cell_type": "code",
   "execution_count": 14,
   "metadata": {},
   "outputs": [],
   "source": [
    "#os.mkdir('./muestras')\n",
    "makeJson(parametersList)\n",
    "#makeSamples(parametersList,100,save_npy=False)\n",
    "#makeSamples(parametersList,100,save_npy=True)"
   ]
  },
  {
   "cell_type": "code",
   "execution_count": null,
   "metadata": {},
   "outputs": [],
   "source": [
    "np.arange(3)"
   ]
  },
  {
   "cell_type": "code",
   "execution_count": null,
   "metadata": {},
   "outputs": [],
   "source": [
    "np.arange(0)"
   ]
  },
  {
   "cell_type": "code",
   "execution_count": null,
   "metadata": {},
   "outputs": [],
   "source": []
  }
 ],
 "metadata": {
  "kernelspec": {
   "display_name": "Python 3",
   "language": "python",
   "name": "python3"
  },
  "language_info": {
   "codemirror_mode": {
    "name": "ipython",
    "version": 3
   },
   "file_extension": ".py",
   "mimetype": "text/x-python",
   "name": "python",
   "nbconvert_exporter": "python",
   "pygments_lexer": "ipython3",
   "version": "3.7.5"
  }
 },
 "nbformat": 4,
 "nbformat_minor": 4
}

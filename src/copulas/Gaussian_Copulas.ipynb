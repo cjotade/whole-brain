{
  "nbformat": 4,
  "nbformat_minor": 0,
  "metadata": {
    "colab": {
      "name": "Gaussian_Copulas.ipynb",
      "provenance": [],
      "collapsed_sections": []
    },
    "kernelspec": {
      "name": "python3",
      "display_name": "Python 3"
    }
  },
  "cells": [
    {
      "cell_type": "code",
      "metadata": {
        "id": "oJnryPKZASJU",
        "colab_type": "code",
        "colab": {}
      },
      "source": [
        "import numpy as np\n",
        "import scipy\n",
        "import scipy.stats\n",
        "#import matplotlib as mpl\n",
        "import matplotlib.pyplot as plt\n",
        "#plt.style.use('classic')\n",
        "#%matplotlib inline"
      ],
      "execution_count": 4,
      "outputs": []
    },
    {
      "cell_type": "code",
      "metadata": {
        "id": "7HS4JIQSgO3F",
        "colab_type": "code",
        "colab": {}
      },
      "source": [
        "from os import listdir\n",
        "import os\n",
        "from os.path import isfile, join"
      ],
      "execution_count": 5,
      "outputs": []
    },
    {
      "cell_type": "code",
      "metadata": {
        "id": "hDWbB2mmkA02",
        "colab_type": "code",
        "colab": {
          "base_uri": "https://localhost:8080/",
          "height": 124
        },
        "outputId": "ef94dadf-3c65-495b-fbe3-8248efe1b4ae"
      },
      "source": [
        "from google.colab import drive\n",
        "drive.mount('/content/gdrive', force_remount=True)\n",
        "# Estos son mis directorios\n",
        "#root_dir = \"/content/gdrive/My Drive/\"\n",
        "#base_dir = root_dir + 'Teo_info_proyecto_d'"
      ],
      "execution_count": null,
      "outputs": [
        {
          "output_type": "stream",
          "text": [
            "Go to this URL in a browser: https://accounts.google.com/o/oauth2/auth?client_id=947318989803-6bn6qk8qdgf4n4g3pfee6491hc0brc4i.apps.googleusercontent.com&redirect_uri=urn%3aietf%3awg%3aoauth%3a2.0%3aoob&response_type=code&scope=email%20https%3a%2f%2fwww.googleapis.com%2fauth%2fdocs.test%20https%3a%2f%2fwww.googleapis.com%2fauth%2fdrive%20https%3a%2f%2fwww.googleapis.com%2fauth%2fdrive.photos.readonly%20https%3a%2f%2fwww.googleapis.com%2fauth%2fpeopleapi.readonly\n",
            "\n",
            "Enter your authorization code:\n",
            "··········\n",
            "Mounted at /content/gdrive\n"
          ],
          "name": "stdout"
        }
      ]
    },
    {
      "cell_type": "code",
      "metadata": {
        "id": "8ewIYw8dfnmk",
        "colab_type": "code",
        "colab": {}
      },
      "source": [
        "def teor_detcm_condit_other_vars_fn(covmat, n):\n",
        "  m = []\n",
        "  for i in range(0,n):\n",
        "    covmat_less_one = np.delete(covmat, i, axis=0)\n",
        "    covmat_less_one = np.delete(covmat_less_one, i, axis=1)\n",
        "    teor_detcm_condit_other_vars_i = np.linalg.det(covmat_less_one)\n",
        "    m.append(teor_detcm_condit_other_vars_i)\n",
        "  return np.array(m)"
      ],
      "execution_count": 6,
      "outputs": []
    },
    {
      "cell_type": "code",
      "metadata": {
        "id": "BBveoJFbh3hX",
        "colab_type": "code",
        "colab": {
          "base_uri": "https://localhost:8080/",
          "height": 69
        },
        "outputId": "293cdbed-abac-4fd7-ff69-5b07f8557b5a"
      },
      "source": [
        "# Ejemplo para alguna distribucion:\n",
        "# Caso datos Gaussianos correlacionados\n",
        "# Gaussiana multivariada N-dim\n",
        "\n",
        "N = 3 # Dimensión\n",
        "T = 10000 # Número de muestras a generar\n",
        "\n",
        "# Generación matriz\n",
        "covmat = np.random.rand(N,N)\n",
        "covmat = 0.5*(covmat + np.transpose(covmat))\n",
        "np.fill_diagonal(covmat,N)\n",
        "\n",
        "# Media\n",
        "mu = np.zeros(N)\n",
        "covmat\n"
      ],
      "execution_count": 7,
      "outputs": [
        {
          "output_type": "execute_result",
          "data": {
            "text/plain": [
              "array([[3.        , 0.58008716, 0.38829296],\n",
              "       [0.58008716, 3.        , 0.26341498],\n",
              "       [0.38829296, 0.26341498, 3.        ]])"
            ]
          },
          "metadata": {
            "tags": []
          },
          "execution_count": 7
        }
      ]
    },
    {
      "cell_type": "code",
      "metadata": {
        "id": "eeSsS5XbjHb1",
        "colab_type": "code",
        "colab": {
          "base_uri": "https://localhost:8080/",
          "height": 34
        },
        "outputId": "a58d7d14-ab93-47b4-d801-f8d46b3e9b89"
      },
      "source": [
        "DATA = np.random.multivariate_normal(mu,covmat,T)\n",
        "DATA.shape"
      ],
      "execution_count": 9,
      "outputs": [
        {
          "output_type": "execute_result",
          "data": {
            "text/plain": [
              "(10000, 3)"
            ]
          },
          "metadata": {
            "tags": []
          },
          "execution_count": 9
        }
      ]
    },
    {
      "cell_type": "code",
      "metadata": {
        "id": "P857veQJgBRz",
        "colab_type": "code",
        "colab": {}
      },
      "source": [
        "N = DATA.shape[1]\n",
        "T = DATA.shape[0]\n",
        "sort_id = DATA.argsort(axis=0) # Índices que ordenan los datos\n",
        "sort_id = sort_id + 1\n",
        "\n",
        "copdata = sort_id.argsort(axis=0) # Índices que ordenan los índices que ordenan los datos\n",
        "copdata = copdata + 1\n",
        "copdata = copdata / (T+1) # Normalización a [0,1]\n",
        "\n",
        "# Usar inversa de CDF de la distribución normal estándar \n",
        "gaussian_data = scipy.stats.norm.ppf(copdata) # Datos uniformes a datos gaussianos\n",
        "gaussian_data[np.isinf(gaussian_data)] = 0 # Remover infinitos\n",
        "\n",
        "# Cálculo matriz de covarianza \n",
        "covmat_gc = np.matmul(np.transpose(gaussian_data),gaussian_data)/(T-1) \n",
        "\n",
        "# Medidas usando matriz obtenida por copulas\n",
        "\n",
        "teor_detcm = np.linalg.det(covmat_gc) # Determinante matriz de covarianza\n",
        "teor_detcm_condit_other_vars = teor_detcm_condit_other_vars_fn(covmat_gc, N) # Determinantes de matrices de covarianza sin considerar 1 variable\n",
        "teor_single_vars = np.diagonal(covmat_gc) # Varianza de cada variable\n",
        "\n",
        "#Entropias\n",
        "\n",
        "teor_var_ents = 0.5*np.log(((2*np.pi*np.exp(1)))*teor_single_vars)# Entropía teórica de cada variable\n",
        "teor_entropy = 0.5*(np.log((2*np.pi*np.exp(1))**N) + np.log(teor_detcm)) # Entropía conjunta teórica de la Gaussiana multivariante\n",
        "teor_ent_condit_other_vars = 0.5*(np.log((2*np.pi*np.exp(1))**(N-1)) + np.log(teor_detcm_condit_other_vars)) # Entropía de 1 variable condicional a las otras otras variables\n",
        "\n",
        "# TC, DTC, O-info, S-info (en nats)\n",
        "teor_tc = sum(teor_var_ents) - teor_entropy\n",
        "teor_dtc = sum(teor_ent_condit_other_vars) - (N-1)*teor_entropy\n",
        "teor_oinfo = teor_tc - teor_dtc\n",
        "teor_sinfo = teor_tc + teor_dtc\n",
        "\n",
        "# TC, DTC, O-info (en bits)\n",
        "teor_tc = round(teor_tc/np.log(2),4)\n",
        "teor_dtc = round(teor_dtc/np.log(2),4)\n",
        "teor_oinfo = round(teor_oinfo/np.log(2),4)"
      ],
      "execution_count": 10,
      "outputs": []
    },
    {
      "cell_type": "code",
      "metadata": {
        "id": "t2LuRzXNikiT",
        "colab_type": "code",
        "colab": {
          "base_uri": "https://localhost:8080/",
          "height": 86
        },
        "outputId": "d622e0c2-58ae-4b24-d92a-e85febcd36f5"
      },
      "source": [
        "print('Las medidas de información calculadas por Gaussian copula (en bits) :')\n",
        "print('Total correlation:   ' + str(teor_tc))\n",
        "print('Dual total correlation:   ' + str(teor_dtc))\n",
        "print('O-information:   ' + str(teor_oinfo))"
      ],
      "execution_count": 11,
      "outputs": [
        {
          "output_type": "stream",
          "text": [
            "Las medidas de información calculadas por Gaussian copula (en bits) :\n",
            "Total correlation:   0.0412\n",
            "Dual total correlation:   0.0387\n",
            "O-information:   0.0025\n"
          ],
          "name": "stdout"
        }
      ]
    },
    {
      "cell_type": "code",
      "metadata": {
        "id": "vtJxSs4mjP67",
        "colab_type": "code",
        "colab": {}
      },
      "source": [
        ""
      ],
      "execution_count": null,
      "outputs": []
    }
  ]
}
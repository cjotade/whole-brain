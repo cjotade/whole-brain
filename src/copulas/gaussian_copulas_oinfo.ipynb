{
  "nbformat": 4,
  "nbformat_minor": 0,
  "metadata": {
    "colab": {
      "name": "Método Gaussian Copulas_d",
      "provenance": [],
      "collapsed_sections": []
    },
    "kernelspec": {
      "name": "python3",
      "display_name": "Python 3"
    },
    "accelerator": "GPU"
  },
  "cells": [
    {
      "cell_type": "markdown",
      "metadata": {
        "id": "LEy_q61dxFpt",
        "colab_type": "text"
      },
      "source": [
        "## Preliminares"
      ]
    },
    {
      "cell_type": "code",
      "metadata": {
        "id": "oJnryPKZASJU",
        "colab_type": "code",
        "colab": {}
      },
      "source": [
        "import numpy as np\n",
        "import scipy\n",
        "import scipy.stats\n",
        "#import matplotlib as mpl\n",
        "import matplotlib.pyplot as plt\n",
        "#plt.style.use('classic')\n",
        "#%matplotlib inline"
      ],
      "execution_count": 1,
      "outputs": []
    },
    {
      "cell_type": "code",
      "metadata": {
        "id": "7HS4JIQSgO3F",
        "colab_type": "code",
        "colab": {}
      },
      "source": [
        "from os import listdir\n",
        "import os\n",
        "from os.path import isfile, join\n",
        "import pickle"
      ],
      "execution_count": 2,
      "outputs": []
    },
    {
      "cell_type": "code",
      "metadata": {
        "id": "hDWbB2mmkA02",
        "colab_type": "code",
        "colab": {
          "base_uri": "https://localhost:8080/",
          "height": 124
        },
        "outputId": "d76da89e-ee7d-4b51-c1c5-7db5a8e32532"
      },
      "source": [
        "from google.colab import drive\n",
        "drive.mount('/content/gdrive', force_remount=True)\n",
        "# Estos son mis directorios\n",
        "root_dir = \"/content/gdrive/My Drive/\"\n",
        "base_dir = root_dir + 'Teo_info_proyecto_d'"
      ],
      "execution_count": 3,
      "outputs": [
        {
          "output_type": "stream",
          "text": [
            "Go to this URL in a browser: https://accounts.google.com/o/oauth2/auth?client_id=947318989803-6bn6qk8qdgf4n4g3pfee6491hc0brc4i.apps.googleusercontent.com&redirect_uri=urn%3aietf%3awg%3aoauth%3a2.0%3aoob&response_type=code&scope=email%20https%3a%2f%2fwww.googleapis.com%2fauth%2fdocs.test%20https%3a%2f%2fwww.googleapis.com%2fauth%2fdrive%20https%3a%2f%2fwww.googleapis.com%2fauth%2fdrive.photos.readonly%20https%3a%2f%2fwww.googleapis.com%2fauth%2fpeopleapi.readonly\n",
            "\n",
            "Enter your authorization code:\n",
            "··········\n",
            "Mounted at /content/gdrive\n"
          ],
          "name": "stdout"
        }
      ]
    },
    {
      "cell_type": "code",
      "metadata": {
        "id": "8ewIYw8dfnmk",
        "colab_type": "code",
        "colab": {}
      },
      "source": [
        "# Funcion para calcular determinante de la matriz quitando una de las variables\n",
        "def teor_detcm_condit_other_vars_fn(covmat, n):\n",
        "  m = []\n",
        "  for i in range(0,n):\n",
        "    covmat_less_one = np.delete(covmat, i, axis=0)\n",
        "    covmat_less_one = np.delete(covmat_less_one, i, axis=1)\n",
        "    teor_detcm_condit_other_vars_i = np.linalg.det(covmat_less_one)\n",
        "    m.append(teor_detcm_condit_other_vars_i)\n",
        "  return np.array(m)"
      ],
      "execution_count": 4,
      "outputs": []
    },
    {
      "cell_type": "markdown",
      "metadata": {
        "id": "GabTMKLxxJ5Q",
        "colab_type": "text"
      },
      "source": [
        "## Ejemplo para alguna distribución Gaussiana\n",
        "Para entender cómo funciona el algoritmo Copulas"
      ]
    },
    {
      "cell_type": "code",
      "metadata": {
        "id": "BBveoJFbh3hX",
        "colab_type": "code",
        "colab": {}
      },
      "source": [
        "# Gaussiana multivariada N-dim\n",
        "\n",
        "#N = 3 # Dimensión\n",
        "#T = 10000 # Número de muestras a generar\n",
        "\n",
        "# Generación matriz\n",
        "#covmat = np.random.rand(N,N)\n",
        "#covmat = 0.5*(covmat + np.transpose(covmat))\n",
        "#np.fill_diagonal(covmat,N)\n",
        "\n",
        "# Media\n",
        "#mu = np.zeros(N)\n",
        "#covmat\n"
      ],
      "execution_count": 5,
      "outputs": []
    },
    {
      "cell_type": "code",
      "metadata": {
        "id": "eeSsS5XbjHb1",
        "colab_type": "code",
        "colab": {}
      },
      "source": [
        "# DATA serán los datos a utilizar\n",
        "\n",
        "#DATA = np.random.multivariate_normal(mu,covmat,T) # Generación de datos\n",
        "#DATA.shape"
      ],
      "execution_count": 6,
      "outputs": []
    },
    {
      "cell_type": "code",
      "metadata": {
        "id": "7Mr9gNnTw657",
        "colab_type": "code",
        "colab": {}
      },
      "source": [
        "# Algoritmo para metodo Copulas\n",
        "\n",
        "N = DATA.shape[1]\n",
        "T = DATA.shape[0]\n",
        "sort_id = DATA.argsort(axis=0) # Índices que ordenan (rankean) los datos\n",
        "sort_id = sort_id + 1\n",
        "\n",
        "copdata = sort_id.argsort(axis=0) # Índices que ordenan el ranking de los datos\n",
        "copdata = copdata + 1\n",
        "copdata = copdata / (T+1) # Normalización a [0,1]\n",
        "\n",
        "# Usar inversa de CDF de la distribución normal estándar \n",
        "gaussian_data = scipy.stats.norm.ppf(copdata) # Datos uniformes a datos gaussianos\n",
        "gaussian_data[np.isinf(gaussian_data)] = 0 # Remover infinitos\n",
        "\n",
        "# Cálculo matriz de covarianza segun Gaussian copulas\n",
        "covmat_gc = np.matmul(np.transpose(gaussian_data),gaussian_data)/(T-1) \n",
        "\n",
        "# Medidas usando matriz obtenida por copulas\n",
        "# Ahora se trata la data como si fuera una distribucion gaussiana con matriz de covarianza \"covmat_gc\"\n",
        "\n",
        "teor_detcm = np.linalg.det(covmat_gc) # Determinante matriz de covarianza\n",
        "teor_detcm_condit_other_vars = teor_detcm_condit_other_vars_fn(covmat_gc, N) # Determinantes de matrices de covarianza sin considerar 1 variable\n",
        "teor_single_vars = np.diagonal(covmat_gc) # Varianza de cada variable\n",
        "\n",
        "#Entropias\n",
        "\n",
        "teor_var_ents = 0.5*np.log(((2*np.pi*np.exp(1)))*teor_single_vars)# Entropía teórica de cada variable\n",
        "teor_entropy = 0.5*(np.log((2*np.pi*np.exp(1))**N) + np.log(teor_detcm)) # Entropía conjunta teórica de la Gaussiana multivariante\n",
        "teor_ent_condit_other_vars = 0.5*(np.log((2*np.pi*np.exp(1))**(N-1)) + np.log(teor_detcm_condit_other_vars)) # Entropía de 1 variable condicional a las otras otras variables\n",
        "\n",
        "# TC, DTC, O-info, S-info (en nats)\n",
        "teor_tc = sum(teor_var_ents) - teor_entropy\n",
        "teor_dtc = sum(teor_ent_condit_other_vars) - (N-1)*teor_entropy\n",
        "teor_oinfo = teor_tc - teor_dtc\n",
        "teor_sinfo = teor_tc + teor_dtc\n",
        "\n",
        "# TC, DTC, O-info (en bits)\n",
        "teor_tc = round(teor_tc/np.log(2),4)\n",
        "teor_dtc = round(teor_dtc/np.log(2),4)\n",
        "teor_oinfo = round(teor_oinfo/np.log(2),4)"
      ],
      "execution_count": null,
      "outputs": []
    },
    {
      "cell_type": "code",
      "metadata": {
        "id": "WwtBFUnxw_86",
        "colab_type": "code",
        "colab": {}
      },
      "source": [
        "print('Las medidas de información calculadas por Gaussian copula (en bits) :')\n",
        "print('Total correlation:   ' + str(teor_tc))\n",
        "print('Dual total correlation:   ' + str(teor_dtc))\n",
        "print('O-information:   ' + str(teor_oinfo))"
      ],
      "execution_count": null,
      "outputs": []
    },
    {
      "cell_type": "markdown",
      "metadata": {
        "id": "pybe7UZ3xT5s",
        "colab_type": "text"
      },
      "source": [
        "## Análisis datos generados por Whole-brain DMF model"
      ]
    },
    {
      "cell_type": "code",
      "metadata": {
        "id": "wSTf8odWygDC",
        "colab_type": "code",
        "colab": {
          "base_uri": "https://localhost:8080/",
          "height": 1000
        },
        "outputId": "bb0b44d5-f6df-433c-f11b-7007fc29e412"
      },
      "source": [
        "# Descomprimir datos en la carpeta del Drive\n",
        "!unzip '/content/gdrive/My Drive/Teo_info_proyecto_d/dmn.zip' -d '/content/gdrive/My Drive/Teo_info_proyecto_d/dmn'"
      ],
      "execution_count": 7,
      "outputs": [
        {
          "output_type": "stream",
          "text": [
            "Archive:  /content/gdrive/My Drive/Teo_info_proyecto_d/dmn.zip\n",
            "  inflating: /content/gdrive/My Drive/Teo_info_proyecto_d/dmn/samples_1.txt  \n",
            "  inflating: /content/gdrive/My Drive/Teo_info_proyecto_d/dmn/samples_2.txt  \n",
            "  inflating: /content/gdrive/My Drive/Teo_info_proyecto_d/dmn/samples_3.txt  \n",
            "  inflating: /content/gdrive/My Drive/Teo_info_proyecto_d/dmn/samples_4.txt  \n",
            "  inflating: /content/gdrive/My Drive/Teo_info_proyecto_d/dmn/samples_5.txt  \n",
            "  inflating: /content/gdrive/My Drive/Teo_info_proyecto_d/dmn/samples_6.txt  \n",
            "  inflating: /content/gdrive/My Drive/Teo_info_proyecto_d/dmn/samples_7.txt  \n",
            "  inflating: /content/gdrive/My Drive/Teo_info_proyecto_d/dmn/samples_8.txt  \n",
            "  inflating: /content/gdrive/My Drive/Teo_info_proyecto_d/dmn/samples_9.txt  \n",
            "  inflating: /content/gdrive/My Drive/Teo_info_proyecto_d/dmn/samples_10.txt  \n",
            "  inflating: /content/gdrive/My Drive/Teo_info_proyecto_d/dmn/samples_11.txt  \n",
            "  inflating: /content/gdrive/My Drive/Teo_info_proyecto_d/dmn/samples_12.txt  \n",
            "  inflating: /content/gdrive/My Drive/Teo_info_proyecto_d/dmn/samples_13.txt  \n",
            "  inflating: /content/gdrive/My Drive/Teo_info_proyecto_d/dmn/samples_14.txt  \n",
            "  inflating: /content/gdrive/My Drive/Teo_info_proyecto_d/dmn/samples_15.txt  \n",
            "  inflating: /content/gdrive/My Drive/Teo_info_proyecto_d/dmn/samples_16.txt  \n",
            "  inflating: /content/gdrive/My Drive/Teo_info_proyecto_d/dmn/samples_17.txt  \n",
            "  inflating: /content/gdrive/My Drive/Teo_info_proyecto_d/dmn/samples_18.txt  \n",
            "  inflating: /content/gdrive/My Drive/Teo_info_proyecto_d/dmn/samples_19.txt  \n",
            "  inflating: /content/gdrive/My Drive/Teo_info_proyecto_d/dmn/samples_20.txt  \n",
            "  inflating: /content/gdrive/My Drive/Teo_info_proyecto_d/dmn/samples_21.txt  \n",
            "  inflating: /content/gdrive/My Drive/Teo_info_proyecto_d/dmn/samples_22.txt  \n",
            "  inflating: /content/gdrive/My Drive/Teo_info_proyecto_d/dmn/samples_23.txt  \n",
            "  inflating: /content/gdrive/My Drive/Teo_info_proyecto_d/dmn/samples_24.txt  \n",
            "  inflating: /content/gdrive/My Drive/Teo_info_proyecto_d/dmn/samples_25.txt  \n",
            "  inflating: /content/gdrive/My Drive/Teo_info_proyecto_d/dmn/samples_26.txt  \n",
            "  inflating: /content/gdrive/My Drive/Teo_info_proyecto_d/dmn/samples_27.txt  \n",
            "  inflating: /content/gdrive/My Drive/Teo_info_proyecto_d/dmn/samples_28.txt  \n",
            "  inflating: /content/gdrive/My Drive/Teo_info_proyecto_d/dmn/samples_29.txt  \n",
            "  inflating: /content/gdrive/My Drive/Teo_info_proyecto_d/dmn/samples_30.txt  \n",
            "  inflating: /content/gdrive/My Drive/Teo_info_proyecto_d/dmn/samples_31.txt  \n",
            "  inflating: /content/gdrive/My Drive/Teo_info_proyecto_d/dmn/samples_32.txt  \n",
            "  inflating: /content/gdrive/My Drive/Teo_info_proyecto_d/dmn/samples_33.txt  \n",
            "  inflating: /content/gdrive/My Drive/Teo_info_proyecto_d/dmn/samples_34.txt  \n",
            "  inflating: /content/gdrive/My Drive/Teo_info_proyecto_d/dmn/samples_35.txt  \n",
            "  inflating: /content/gdrive/My Drive/Teo_info_proyecto_d/dmn/samples_36.txt  \n",
            "  inflating: /content/gdrive/My Drive/Teo_info_proyecto_d/dmn/samples_37.txt  \n",
            "  inflating: /content/gdrive/My Drive/Teo_info_proyecto_d/dmn/samples_38.txt  \n",
            "  inflating: /content/gdrive/My Drive/Teo_info_proyecto_d/dmn/samples_39.txt  \n",
            "  inflating: /content/gdrive/My Drive/Teo_info_proyecto_d/dmn/samples_40.txt  \n",
            "  inflating: /content/gdrive/My Drive/Teo_info_proyecto_d/dmn/samples_41.txt  \n",
            "  inflating: /content/gdrive/My Drive/Teo_info_proyecto_d/dmn/samples_42.txt  \n",
            "  inflating: /content/gdrive/My Drive/Teo_info_proyecto_d/dmn/samples_43.txt  \n",
            "  inflating: /content/gdrive/My Drive/Teo_info_proyecto_d/dmn/samples_44.txt  \n",
            "  inflating: /content/gdrive/My Drive/Teo_info_proyecto_d/dmn/samples_45.txt  \n",
            "  inflating: /content/gdrive/My Drive/Teo_info_proyecto_d/dmn/samples_46.txt  \n",
            "  inflating: /content/gdrive/My Drive/Teo_info_proyecto_d/dmn/samples_47.txt  \n",
            "  inflating: /content/gdrive/My Drive/Teo_info_proyecto_d/dmn/samples_48.txt  \n",
            "  inflating: /content/gdrive/My Drive/Teo_info_proyecto_d/dmn/samples_49.txt  \n",
            "  inflating: /content/gdrive/My Drive/Teo_info_proyecto_d/dmn/samples_50.txt  \n",
            "  inflating: /content/gdrive/My Drive/Teo_info_proyecto_d/dmn/samples_51.txt  \n",
            "  inflating: /content/gdrive/My Drive/Teo_info_proyecto_d/dmn/samples_52.txt  \n",
            "  inflating: /content/gdrive/My Drive/Teo_info_proyecto_d/dmn/samples_53.txt  \n",
            "  inflating: /content/gdrive/My Drive/Teo_info_proyecto_d/dmn/samples_54.txt  \n",
            "  inflating: /content/gdrive/My Drive/Teo_info_proyecto_d/dmn/samples_55.txt  \n",
            "  inflating: /content/gdrive/My Drive/Teo_info_proyecto_d/dmn/samples_56.txt  \n",
            "  inflating: /content/gdrive/My Drive/Teo_info_proyecto_d/dmn/samples_57.txt  \n",
            "  inflating: /content/gdrive/My Drive/Teo_info_proyecto_d/dmn/samples_58.txt  \n",
            "  inflating: /content/gdrive/My Drive/Teo_info_proyecto_d/dmn/samples_59.txt  \n",
            "  inflating: /content/gdrive/My Drive/Teo_info_proyecto_d/dmn/samples_60.txt  \n",
            "  inflating: /content/gdrive/My Drive/Teo_info_proyecto_d/dmn/samples_61.txt  \n",
            "  inflating: /content/gdrive/My Drive/Teo_info_proyecto_d/dmn/samples_62.txt  \n",
            "  inflating: /content/gdrive/My Drive/Teo_info_proyecto_d/dmn/samples_63.txt  \n",
            "  inflating: /content/gdrive/My Drive/Teo_info_proyecto_d/dmn/samples_64.txt  \n",
            "  inflating: /content/gdrive/My Drive/Teo_info_proyecto_d/dmn/samples_65.txt  \n",
            "  inflating: /content/gdrive/My Drive/Teo_info_proyecto_d/dmn/samples_66.txt  \n",
            "  inflating: /content/gdrive/My Drive/Teo_info_proyecto_d/dmn/samples_67.txt  \n",
            "  inflating: /content/gdrive/My Drive/Teo_info_proyecto_d/dmn/samples_68.txt  \n",
            "  inflating: /content/gdrive/My Drive/Teo_info_proyecto_d/dmn/samples_69.txt  \n",
            "  inflating: /content/gdrive/My Drive/Teo_info_proyecto_d/dmn/samples_70.txt  \n",
            "  inflating: /content/gdrive/My Drive/Teo_info_proyecto_d/dmn/samples_71.txt  \n",
            "  inflating: /content/gdrive/My Drive/Teo_info_proyecto_d/dmn/samples_72.txt  \n",
            "  inflating: /content/gdrive/My Drive/Teo_info_proyecto_d/dmn/samples_73.txt  \n",
            "  inflating: /content/gdrive/My Drive/Teo_info_proyecto_d/dmn/samples_74.txt  \n",
            "  inflating: /content/gdrive/My Drive/Teo_info_proyecto_d/dmn/samples_75.txt  \n",
            "  inflating: /content/gdrive/My Drive/Teo_info_proyecto_d/dmn/samples_76.txt  \n",
            "  inflating: /content/gdrive/My Drive/Teo_info_proyecto_d/dmn/samples_77.txt  \n",
            "  inflating: /content/gdrive/My Drive/Teo_info_proyecto_d/dmn/samples_78.txt  \n",
            "  inflating: /content/gdrive/My Drive/Teo_info_proyecto_d/dmn/samples_79.txt  \n",
            "  inflating: /content/gdrive/My Drive/Teo_info_proyecto_d/dmn/samples_80.txt  \n",
            "  inflating: /content/gdrive/My Drive/Teo_info_proyecto_d/dmn/samples_81.txt  \n",
            "  inflating: /content/gdrive/My Drive/Teo_info_proyecto_d/dmn/samples_82.txt  \n",
            "  inflating: /content/gdrive/My Drive/Teo_info_proyecto_d/dmn/samples_83.txt  \n",
            "  inflating: /content/gdrive/My Drive/Teo_info_proyecto_d/dmn/samples_84.txt  \n",
            "  inflating: /content/gdrive/My Drive/Teo_info_proyecto_d/dmn/samples_85.txt  \n",
            "  inflating: /content/gdrive/My Drive/Teo_info_proyecto_d/dmn/samples_86.txt  \n",
            "  inflating: /content/gdrive/My Drive/Teo_info_proyecto_d/dmn/samples_87.txt  \n",
            "  inflating: /content/gdrive/My Drive/Teo_info_proyecto_d/dmn/samples_88.txt  \n",
            "  inflating: /content/gdrive/My Drive/Teo_info_proyecto_d/dmn/samples_89.txt  \n",
            "  inflating: /content/gdrive/My Drive/Teo_info_proyecto_d/dmn/samples_90.txt  \n",
            "  inflating: /content/gdrive/My Drive/Teo_info_proyecto_d/dmn/samples_91.txt  \n",
            "  inflating: /content/gdrive/My Drive/Teo_info_proyecto_d/dmn/samples_92.txt  \n",
            "  inflating: /content/gdrive/My Drive/Teo_info_proyecto_d/dmn/samples_93.txt  \n",
            "  inflating: /content/gdrive/My Drive/Teo_info_proyecto_d/dmn/samples_94.txt  \n",
            "  inflating: /content/gdrive/My Drive/Teo_info_proyecto_d/dmn/samples_95.txt  \n",
            "  inflating: /content/gdrive/My Drive/Teo_info_proyecto_d/dmn/samples_96.txt  \n",
            "  inflating: /content/gdrive/My Drive/Teo_info_proyecto_d/dmn/samples_97.txt  \n",
            "  inflating: /content/gdrive/My Drive/Teo_info_proyecto_d/dmn/samples_98.txt  \n",
            "  inflating: /content/gdrive/My Drive/Teo_info_proyecto_d/dmn/samples_99.txt  \n",
            "  inflating: /content/gdrive/My Drive/Teo_info_proyecto_d/dmn/samples_100.txt  \n"
          ],
          "name": "stdout"
        }
      ]
    },
    {
      "cell_type": "code",
      "metadata": {
        "id": "fMXZ8dBu1xr3",
        "colab_type": "code",
        "colab": {}
      },
      "source": [
        "data_folder = base_dir + '/dmn'\n",
        "\n",
        "ALL_SAMPLES_DMN = [] # Acá se almacenaran los 100 sampleos\n",
        "num_data = [100, 1000, 10000, 100000,1000000] \n",
        "\n",
        "for samples in listdir(data_folder):\n",
        "  s_path = data_folder + '/' + samples # path to .txt file\n",
        "  ALL_SAMPLES_DMN.append(np.loadtxt(s_path))\n"
      ],
      "execution_count": 8,
      "outputs": []
    },
    {
      "cell_type": "code",
      "metadata": {
        "id": "iy-EsJFg3A0p",
        "colab_type": "code",
        "colab": {
          "base_uri": "https://localhost:8080/",
          "height": 34
        },
        "outputId": "b9d3c53c-4cdb-4460-ba67-100724438357"
      },
      "source": [
        "len(ALL_SAMPLES_DMN)\n",
        "# 100"
      ],
      "execution_count": 9,
      "outputs": [
        {
          "output_type": "execute_result",
          "data": {
            "text/plain": [
              "100"
            ]
          },
          "metadata": {
            "tags": []
          },
          "execution_count": 9
        }
      ]
    },
    {
      "cell_type": "code",
      "metadata": {
        "id": "gM__z23U3GN3",
        "colab_type": "code",
        "colab": {
          "base_uri": "https://localhost:8080/",
          "height": 34
        },
        "outputId": "da591771-420e-4a76-92c4-621e95b186a0"
      },
      "source": [
        "ALL_SAMPLES_DMN[0].shape\n",
        "# (1000000,10)"
      ],
      "execution_count": 10,
      "outputs": [
        {
          "output_type": "execute_result",
          "data": {
            "text/plain": [
              "(1000001, 10)"
            ]
          },
          "metadata": {
            "tags": []
          },
          "execution_count": 10
        }
      ]
    },
    {
      "cell_type": "code",
      "metadata": {
        "id": "HQLnfHXk3L6y",
        "colab_type": "code",
        "colab": {
          "base_uri": "https://localhost:8080/",
          "height": 34
        },
        "outputId": "f0b1abc3-1e93-4dbb-8228-d9d33b4e6b76"
      },
      "source": [
        "ALL_SAMPLES_DMN[5].shape\n",
        "# (1000000,10)"
      ],
      "execution_count": 11,
      "outputs": [
        {
          "output_type": "execute_result",
          "data": {
            "text/plain": [
              "(1000001, 10)"
            ]
          },
          "metadata": {
            "tags": []
          },
          "execution_count": 11
        }
      ]
    },
    {
      "cell_type": "code",
      "metadata": {
        "id": "70EZnRRxwdUh",
        "colab_type": "code",
        "colab": {}
      },
      "source": [
        "TC = []\n",
        "DTC = []\n",
        "OINFO = []\n",
        "for s_i in ALL_SAMPLES_DMN:\n",
        "  s_TC = []\n",
        "  s_DTC = []\n",
        "  s_OINFO = []\n",
        "  for n in num_data:\n",
        "    # Algoritmo para metodo Copulas\n",
        "    DATA = s_i[0:n,:]\n",
        "    N = DATA.shape[1]\n",
        "    T = n\n",
        "    sort_id = DATA.argsort(axis=0) # Índices que ordenan (rankean) los datos\n",
        "    sort_id = sort_id + 1\n",
        "\n",
        "    copdata = sort_id.argsort(axis=0) # Índices que ordenan el ranking de los datos\n",
        "    copdata = copdata + 1\n",
        "    copdata = copdata / (T+1) # Normalización a [0,1]\n",
        "    # Usar inversa de CDF de la distribución normal estándar \n",
        "    gaussian_data = scipy.stats.norm.ppf(copdata) # Datos uniformes a datos gaussianos\n",
        "    gaussian_data[np.isinf(gaussian_data)] = 0 # Remover infinitos\n",
        "\n",
        "    # Cálculo matriz de covarianza segun Gaussian copulas\n",
        "    covmat_gc = np.matmul(np.transpose(gaussian_data),gaussian_data)/(T-1) \n",
        "\n",
        "    # Medidas usando matriz obtenida\n",
        "    # Ahora se trata la data como si fuera una distribucion gaussiana con matriz de covarianza \"covmat_gc\"\n",
        "\n",
        "    teor_detcm = np.linalg.det(covmat_gc) # Determinante matriz de covarianza\n",
        "    teor_detcm_condit_other_vars = teor_detcm_condit_other_vars_fn(covmat_gc, N) # Determinantes de matrices de covarianza sin considerar 1 variable\n",
        "    teor_single_vars = np.diagonal(covmat_gc) # Varianza de cada variable\n",
        "\n",
        "\n",
        "    # Entropías\n",
        "    teor_var_ents = 0.5*np.log(((2*np.pi*np.exp(1)))*teor_single_vars)# Entropía teórica de cada variable\n",
        "    teor_entropy = 0.5*(np.log((2*np.pi*np.exp(1))**N) + np.log(teor_detcm)) # Entropía conjunta teórica de la Gaussiana multivariante\n",
        "    teor_ent_condit_other_vars = 0.5*(np.log((2*np.pi*np.exp(1))**(N-1)) + np.log(teor_detcm_condit_other_vars)) # Entropía de 1 variable condicional a las otras otras variables\n",
        "\n",
        "    # TC, DTC, O-info, S-info\n",
        "    teor_tc = sum(teor_var_ents) - teor_entropy\n",
        "    teor_dtc = sum(teor_ent_condit_other_vars) - (N-1)*teor_entropy\n",
        "    teor_oinfo = teor_tc - teor_dtc\n",
        "    #teor_sinfo = teor_tc + teor_dtc\n",
        "\n",
        "    s_TC.append(round(teor_tc/np.log(2),4))\n",
        "    s_DTC.append(round(teor_dtc/np.log(2),4))\n",
        "    s_OINFO.append(round(teor_oinfo/np.log(2),4))\n",
        "  TC.append(s_TC)\n",
        "  DTC.append(s_DTC)\n",
        "  OINFO.append(s_OINFO)"
      ],
      "execution_count": 12,
      "outputs": []
    },
    {
      "cell_type": "code",
      "metadata": {
        "id": "QgzpKzessYYm",
        "colab_type": "code",
        "colab": {
          "base_uri": "https://localhost:8080/",
          "height": 139
        },
        "outputId": "d0d642e5-da62-4a51-8da1-a0c55fcdacac"
      },
      "source": [
        "ALL_SAMPLES_DMN[3]"
      ],
      "execution_count": 13,
      "outputs": [
        {
          "output_type": "execute_result",
          "data": {
            "text/plain": [
              "array([[7.8124 , 4.7028 , 0.46832, ..., 3.7623 , 0.44776, 4.4299 ],\n",
              "       [5.091  , 5.8246 , 3.5378 , ..., 1.9571 , 0.44985, 4.8364 ],\n",
              "       [6.5517 , 7.6088 , 5.4665 , ..., 1.2529 , 0.36488, 6.9205 ],\n",
              "       ...,\n",
              "       [1.9156 , 1.3527 , 2.8733 , ..., 0.8579 , 3.1097 , 0.34957],\n",
              "       [1.6071 , 1.3675 , 0.4326 , ..., 1.1168 , 0.89656, 0.32867],\n",
              "       [3.1479 , 1.4095 , 0.82513, ..., 2.017  , 4.4376 , 3.4259 ]])"
            ]
          },
          "metadata": {
            "tags": []
          },
          "execution_count": 13
        }
      ]
    },
    {
      "cell_type": "code",
      "metadata": {
        "id": "EkX7r722DvMg",
        "colab_type": "code",
        "colab": {
          "base_uri": "https://localhost:8080/",
          "height": 34
        },
        "outputId": "e705403f-91ec-4c40-8749-f9ddf916c70d"
      },
      "source": [
        "ALL_SAMPLES_DMN[3].shape"
      ],
      "execution_count": 20,
      "outputs": [
        {
          "output_type": "execute_result",
          "data": {
            "text/plain": [
              "(1000001, 10)"
            ]
          },
          "metadata": {
            "tags": []
          },
          "execution_count": 20
        }
      ]
    },
    {
      "cell_type": "code",
      "metadata": {
        "id": "QeN9g5sm5xIw",
        "colab_type": "code",
        "colab": {}
      },
      "source": [
        "# Reordenando para graficar\n",
        "TC_dmn = []\n",
        "DTC_dmn = []\n",
        "OINFO_dmn =[]\n",
        "\n",
        "TC_10_2 = []\n",
        "TC_10_3 = []\n",
        "TC_10_4 = []\n",
        "TC_10_5 = []\n",
        "TC_10_6 = []\n",
        "\n",
        "DTC_10_2 = []\n",
        "DTC_10_3 = []\n",
        "DTC_10_4 = []\n",
        "DTC_10_5 = []\n",
        "DTC_10_6 = []\n",
        "\n",
        "OINFO_10_2 = []\n",
        "OINFO_10_3 = []\n",
        "OINFO_10_4 = []\n",
        "OINFO_10_5 = []\n",
        "OINFO_10_6 = []\n",
        "\n",
        "for s in TC:\n",
        "  TC_10_2.append(s[0])\n",
        "  TC_10_3.append(s[1])\n",
        "  TC_10_4.append(s[2])\n",
        "  TC_10_5.append(s[3])\n",
        "  TC_10_6.append(s[4])\n",
        "TC_dmn.append(TC_10_2)\n",
        "TC_dmn.append(TC_10_3)\n",
        "TC_dmn.append(TC_10_4)\n",
        "TC_dmn.append(TC_10_5)\n",
        "TC_dmn.append(TC_10_6)\n",
        "\n",
        "\n",
        "for s in DTC:\n",
        "  DTC_10_2.append(s[0])\n",
        "  DTC_10_3.append(s[1])\n",
        "  DTC_10_4.append(s[2])\n",
        "  DTC_10_5.append(s[3])\n",
        "  DTC_10_6.append(s[4])\n",
        "DTC_dmn.append(DTC_10_2)\n",
        "DTC_dmn.append(DTC_10_3)\n",
        "DTC_dmn.append(DTC_10_4)\n",
        "DTC_dmn.append(DTC_10_5)\n",
        "DTC_dmn.append(DTC_10_6)\n",
        "\n",
        "for s in OINFO:\n",
        "  OINFO_10_2.append(s[0])\n",
        "  OINFO_10_3.append(s[1])\n",
        "  OINFO_10_4.append(s[2])\n",
        "  OINFO_10_5.append(s[3])\n",
        "  OINFO_10_6.append(s[4])\n",
        "OINFO_dmn.append(OINFO_10_2)\n",
        "OINFO_dmn.append(OINFO_10_3)\n",
        "OINFO_dmn.append(OINFO_10_4)\n",
        "OINFO_dmn.append(OINFO_10_5)\n",
        "OINFO_dmn.append(OINFO_10_6)"
      ],
      "execution_count": 14,
      "outputs": []
    },
    {
      "cell_type": "code",
      "metadata": {
        "colab_type": "code",
        "id": "2vK-Ih-6pHJr",
        "colab": {}
      },
      "source": [
        "# Obtencion de promedio y desviacion estandar \n",
        "mean_TC=[]\n",
        "std_TC =[]\n",
        "for i in range(0,5):\n",
        "  mean_TC.append(np.mean(TC_dmn[i]))\n",
        "  std_TC.append(np.std(TC_dmn[i]))\n",
        "mean_DTC=[]\n",
        "std_DTC =[]\n",
        "for i in range(0,5):\n",
        "  mean_DTC.append(np.mean(DTC_dmn[i]))\n",
        "  std_DTC.append(np.std(DTC_dmn[i]))\n",
        "mean_OINFO=[]\n",
        "std_OINFO =[]\n",
        "for i in range(0,5):\n",
        "  mean_OINFO.append(np.mean(OINFO_dmn[i]))\n",
        "  std_OINFO.append(np.std(OINFO_dmn[i]))"
      ],
      "execution_count": 15,
      "outputs": []
    },
    {
      "cell_type": "code",
      "metadata": {
        "colab_type": "code",
        "id": "Tzsut8ajpHJ8",
        "colab": {}
      },
      "source": [
        "means = [mean_TC, mean_DTC, mean_OINFO] # Promedios de las métricas\n",
        "stds = [std_TC, std_DTC, std_OINFO] # Desviaciones estandar de las métricas"
      ],
      "execution_count": 16,
      "outputs": []
    },
    {
      "cell_type": "code",
      "metadata": {
        "colab_type": "code",
        "id": "8uFhOEdspHKG",
        "colab": {}
      },
      "source": [
        "# Ordenando informacion en un Dataframe para plotear\n",
        "import pandas as pd\n",
        "mean = pd.DataFrame(means, index=['TC', 'DTC', 'O'], columns=[100,1000,10000,100000,1000000])\n",
        "mean = mean.T\n",
        "std = pd.DataFrame(stds, index=['TC', 'DTC', 'O'], columns=[100,1000,10000,100000,1000000])\n",
        "std = std.T"
      ],
      "execution_count": 17,
      "outputs": []
    },
    {
      "cell_type": "code",
      "metadata": {
        "id": "RWXXIE3zqaoD",
        "colab_type": "code",
        "colab": {
          "base_uri": "https://localhost:8080/",
          "height": 206
        },
        "outputId": "8fd0276b-e126-4278-b633-22a7996db0b8"
      },
      "source": [
        "std"
      ],
      "execution_count": 18,
      "outputs": [
        {
          "output_type": "execute_result",
          "data": {
            "text/html": [
              "<div>\n",
              "<style scoped>\n",
              "    .dataframe tbody tr th:only-of-type {\n",
              "        vertical-align: middle;\n",
              "    }\n",
              "\n",
              "    .dataframe tbody tr th {\n",
              "        vertical-align: top;\n",
              "    }\n",
              "\n",
              "    .dataframe thead th {\n",
              "        text-align: right;\n",
              "    }\n",
              "</style>\n",
              "<table border=\"1\" class=\"dataframe\">\n",
              "  <thead>\n",
              "    <tr style=\"text-align: right;\">\n",
              "      <th></th>\n",
              "      <th>TC</th>\n",
              "      <th>DTC</th>\n",
              "      <th>O</th>\n",
              "    </tr>\n",
              "  </thead>\n",
              "  <tbody>\n",
              "    <tr>\n",
              "      <th>100</th>\n",
              "      <td>0.262582</td>\n",
              "      <td>0.247529</td>\n",
              "      <td>0.096255</td>\n",
              "    </tr>\n",
              "    <tr>\n",
              "      <th>1000</th>\n",
              "      <td>0.038376</td>\n",
              "      <td>0.035207</td>\n",
              "      <td>0.006997</td>\n",
              "    </tr>\n",
              "    <tr>\n",
              "      <th>10000</th>\n",
              "      <td>0.017088</td>\n",
              "      <td>0.014283</td>\n",
              "      <td>0.003022</td>\n",
              "    </tr>\n",
              "    <tr>\n",
              "      <th>100000</th>\n",
              "      <td>0.006041</td>\n",
              "      <td>0.005225</td>\n",
              "      <td>0.000846</td>\n",
              "    </tr>\n",
              "    <tr>\n",
              "      <th>1000000</th>\n",
              "      <td>0.002598</td>\n",
              "      <td>0.002269</td>\n",
              "      <td>0.000336</td>\n",
              "    </tr>\n",
              "  </tbody>\n",
              "</table>\n",
              "</div>"
            ],
            "text/plain": [
              "               TC       DTC         O\n",
              "100      0.262582  0.247529  0.096255\n",
              "1000     0.038376  0.035207  0.006997\n",
              "10000    0.017088  0.014283  0.003022\n",
              "100000   0.006041  0.005225  0.000846\n",
              "1000000  0.002598  0.002269  0.000336"
            ]
          },
          "metadata": {
            "tags": []
          },
          "execution_count": 18
        }
      ]
    },
    {
      "cell_type": "code",
      "metadata": {
        "id": "jbMPe0PJfBDH",
        "colab_type": "code",
        "colab": {
          "base_uri": "https://localhost:8080/",
          "height": 353
        },
        "outputId": "1dd6c8c0-89f6-434c-9696-50f5e85bee7d"
      },
      "source": [
        "metrics_plot = [\"TC\", \"DTC\", \"O\"]\n",
        "fig, ax = plt.subplots(figsize=(10,5))\n",
        "#mean = pd.DataFrame(gaussian_results[gaussian_i][\"mean\"], columns=[\"TC\", \"DTC\", \"O\"], index=[100, 1000, 10000, 100000])\n",
        "#std = pd.DataFrame(gaussian_results[gaussian_i][\"std\"], columns=[\"TC\", \"DTC\", \"O\"], index=[100, 1000, 10000, 100000])\n",
        "mean[metrics_plot].plot(ax=ax)\n",
        "for i, metric_plot in enumerate(metrics_plot):\n",
        "    ax.fill_between(mean.index, mean[metric_plot]-3*std[metric_plot], mean[metric_plot]+3*std[metric_plot], color=f\"C{i}\", alpha=0.3)\n",
        "    #ax.axhline(y=ind['gaussian_2'][metric_plot], color=f'C{i}', linestyle='--')\n",
        "plt.title('dmn using copulas method')\n",
        "ax.set_xscale('log')\n",
        "plt.xlim(10**2, 10**6)\n",
        "plt.grid(axis=\"x\")\n",
        "ax.set_xlabel(\"N° data per sampling\")\n",
        "ax.set_ylabel(\"value\")\n",
        "\n",
        "plt.savefig('/content/gdrive/My Drive/Teo_info_proyecto_d/dmn_plot.pdf')"
      ],
      "execution_count": 19,
      "outputs": [
        {
          "output_type": "display_data",
          "data": {
            "image/png": "[encoded data removed]",
            "text/plain": [
              "<Figure size 720x360 with 1 Axes>"
            ]
          },
          "metadata": {
            "tags": [],
            "needs_background": "light"
          }
        }
      ]
    },
    {
      "cell_type": "code",
      "metadata": {
        "id": "ZPOI3x0hE6UI",
        "colab_type": "code",
        "colab": {
          "base_uri": "https://localhost:8080/",
          "height": 34
        },
        "outputId": "a092563e-067b-4452-aa8e-9383b5e39647"
      },
      "source": [
        "# Save arrays\n",
        "%cd '/content/gdrive/My Drive/Teo_info_proyecto_d'\n",
        "\n",
        "i = 0\n",
        "os.mkdir('./Muestras/dmn_arrays')\n",
        "for s_i in ALL_SAMPLES_DMN:\n",
        "  \n",
        "  np.save(f'./Muestras/dmn_arrays/samples{i}.npy',ALL_SAMPLES_DMN[i])\n",
        "  i+=1"
      ],
      "execution_count": 33,
      "outputs": [
        {
          "output_type": "stream",
          "text": [
            "/content/gdrive/My Drive/Teo_info_proyecto_d\n"
          ],
          "name": "stdout"
        }
      ]
    },
    {
      "cell_type": "code",
      "metadata": {
        "id": "CF8R9XjzHaKi",
        "colab_type": "code",
        "colab": {}
      },
      "source": [
        "# Save pandas df\n",
        "os.mkdir('./Muestras/dmn_df')\n",
        "mean.to_csv('./Muestras/dmn_df/mean.csv')\n",
        "std.to_csv('./Muestras/dmn_df/std.csv')"
      ],
      "execution_count": 34,
      "outputs": []
    },
    {
      "cell_type": "code",
      "metadata": {
        "id": "TPaRiN-jfBJ1",
        "colab_type": "code",
        "colab": {}
      },
      "source": [
        ""
      ],
      "execution_count": null,
      "outputs": []
    },
    {
      "cell_type": "code",
      "metadata": {
        "id": "4CqIcQqMfArh",
        "colab_type": "code",
        "colab": {}
      },
      "source": [
        ""
      ],
      "execution_count": null,
      "outputs": []
    },
    {
      "cell_type": "code",
      "metadata": {
        "id": "w-2wbpIu5d0_",
        "colab_type": "code",
        "colab": {}
      },
      "source": [
        ""
      ],
      "execution_count": null,
      "outputs": []
    }
  ]
}